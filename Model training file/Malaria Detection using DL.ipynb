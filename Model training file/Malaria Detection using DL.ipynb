{
 "cells": [
  {
   "cell_type": "markdown",
   "metadata": {},
   "source": [
    "# Malaria Detection using Deep Learning\n"
   ]
  },
  {
   "cell_type": "markdown",
   "metadata": {},
   "source": [
    "https://www.kaggle.com/iarunava/cell-images-for-detecting-malaria"
   ]
  },
  {
   "cell_type": "markdown",
   "metadata": {},
   "source": [
    "### Importing necessary libraries"
   ]
  },
  {
   "cell_type": "code",
   "execution_count": 1,
   "metadata": {},
   "outputs": [],
   "source": [
    "import tensorflow #open source used for both ML and DL for computation\n",
    "from tensorflow.keras.models import Sequential #it is a plain stack of layers\n",
    "from tensorflow.keras.layers import Dense#Dense layer is the regular deeply connected neural network layer\n",
    "from tensorflow.keras.layers import Flatten#used fot flattening the input or change the dimension\n",
    "from tensorflow.keras.layers import Conv2D#Convolutional layer\n",
    "from tensorflow.keras.layers import MaxPool2D# used for downsampling of the input\n",
    "from tensorflow.keras.layers import Dropout #used for preventing overfitting of model\n",
    "from tensorflow.keras.preprocessing.image import ImageDataGenerator# to artificially expand the size of a training dataset\n",
    "import numpy as np#used for numerical analysis"
   ]
  },
  {
   "cell_type": "code",
   "execution_count": 3,
   "metadata": {},
   "outputs": [],
   "source": [
    "img_width=64 #setting default image width size \n",
    "img_height=64 #setting default image height size"
   ]
  },
  {
   "cell_type": "markdown",
   "metadata": {},
   "source": [
    "### Image Data Agumentation"
   ]
  },
  {
   "cell_type": "code",
   "execution_count": 4,
   "metadata": {},
   "outputs": [],
   "source": [
    "datagen=ImageDataGenerator(rescale=1/255.0,validation_split=0.2) #Image data augmentation"
   ]
  },
  {
   "cell_type": "code",
   "execution_count": 5,
   "metadata": {},
   "outputs": [
    {
     "name": "stdout",
     "output_type": "stream",
     "text": [
      "Found 22047 images belonging to 2 classes.\n"
     ]
    }
   ],
   "source": [
    "train_data_generator=datagen.flow_from_directory(directory=\"E:\\Malaria Detection using DL\\dataset\\cell_images\",\n",
    "                                                target_size=(img_width,img_height),class_mode=\"binary\",\n",
    "                                                batch_size=16,subset=\"training\")#applying image data agumentation to training data"
   ]
  },
  {
   "cell_type": "code",
   "execution_count": 6,
   "metadata": {},
   "outputs": [
    {
     "name": "stdout",
     "output_type": "stream",
     "text": [
      "Found 5510 images belonging to 2 classes.\n"
     ]
    }
   ],
   "source": [
    "validation_data_generator=datagen.flow_from_directory(directory=\"E:\\Malaria Detection using DL\\dataset\\cell_images\",\n",
    "                                                target_size=(img_width,img_height),class_mode=\"binary\",\n",
    "                                                batch_size=16,subset=\"validation\")#applying image data agumentation to testing data"
   ]
  },
  {
   "cell_type": "code",
   "execution_count": 7,
   "metadata": {},
   "outputs": [
    {
     "data": {
      "text/plain": [
       "array([0, 0, 0, ..., 1, 1, 1])"
      ]
     },
     "execution_count": 7,
     "metadata": {},
     "output_type": "execute_result"
    }
   ],
   "source": [
    "train_data_generator.labels #checking the labels"
   ]
  },
  {
   "cell_type": "markdown",
   "metadata": {},
   "source": [
    "### Creating the Model"
   ]
  },
  {
   "cell_type": "code",
   "execution_count": 8,
   "metadata": {},
   "outputs": [],
   "source": [
    "model= Sequential() #our model\n",
    "\n",
    "model.add(Conv2D(16,(3,3),input_shape=(img_width,img_height,3),activation=\"relu\"))#convolutional layer\n",
    "model.add(MaxPool2D(2,2)) # Downsamples the input\n",
    "model.add(Dropout(0.2)) #drop input randomly for preventing from overfitting\n",
    "\n",
    "model.add(Conv2D(32,(3,3),activation=\"relu\"))\n",
    "model.add(MaxPool2D(2,2))\n",
    "model.add(Dropout(0.3))\n",
    "\n",
    "model.add(Flatten())#flatten the dimension of the image\n",
    "model.add(Dense(64,activation=\"relu\"))#deeply connected neural network layer\n",
    "model.add(Dropout(0.5))\n",
    "\n",
    "model.add(Dense(1,activation=\"sigmoid\")) #output layer with one neuron\n"
   ]
  },
  {
   "cell_type": "code",
   "execution_count": 9,
   "metadata": {},
   "outputs": [
    {
     "name": "stdout",
     "output_type": "stream",
     "text": [
      "Model: \"sequential\"\n",
      "_________________________________________________________________\n",
      "Layer (type)                 Output Shape              Param #   \n",
      "=================================================================\n",
      "conv2d (Conv2D)              (None, 62, 62, 16)        448       \n",
      "_________________________________________________________________\n",
      "max_pooling2d (MaxPooling2D) (None, 31, 31, 16)        0         \n",
      "_________________________________________________________________\n",
      "dropout (Dropout)            (None, 31, 31, 16)        0         \n",
      "_________________________________________________________________\n",
      "conv2d_1 (Conv2D)            (None, 29, 29, 32)        4640      \n",
      "_________________________________________________________________\n",
      "max_pooling2d_1 (MaxPooling2 (None, 14, 14, 32)        0         \n",
      "_________________________________________________________________\n",
      "dropout_1 (Dropout)          (None, 14, 14, 32)        0         \n",
      "_________________________________________________________________\n",
      "flatten (Flatten)            (None, 6272)              0         \n",
      "_________________________________________________________________\n",
      "dense (Dense)                (None, 64)                401472    \n",
      "_________________________________________________________________\n",
      "dropout_2 (Dropout)          (None, 64)                0         \n",
      "_________________________________________________________________\n",
      "dense_1 (Dense)              (None, 1)                 65        \n",
      "=================================================================\n",
      "Total params: 406,625\n",
      "Trainable params: 406,625\n",
      "Non-trainable params: 0\n",
      "_________________________________________________________________\n"
     ]
    }
   ],
   "source": [
    "model.summary() #summary of our neural network"
   ]
  },
  {
   "cell_type": "markdown",
   "metadata": {},
   "source": [
    "### Compiling the model"
   ]
  },
  {
   "cell_type": "code",
   "execution_count": 10,
   "metadata": {},
   "outputs": [],
   "source": [
    "#compile modelb\n",
    "model.compile(optimizer='adam', loss='binary_crossentropy', metrics = ['accuracy'])"
   ]
  },
  {
   "cell_type": "markdown",
   "metadata": {},
   "source": [
    "### Fitting the model"
   ]
  },
  {
   "cell_type": "code",
   "execution_count": 11,
   "metadata": {},
   "outputs": [
    {
     "name": "stdout",
     "output_type": "stream",
     "text": [
      "WARNING:tensorflow:From <ipython-input-11-3b4649eb4549>:1: Model.fit_generator (from tensorflow.python.keras.engine.training) is deprecated and will be removed in a future version.\n",
      "Instructions for updating:\n",
      "Please use Model.fit, which supports generators.\n",
      "Epoch 1/5\n",
      "1378/1378 [==============================] - 797s 579ms/step - loss: 0.5035 - accuracy: 0.7415 - val_loss: 0.2334 - val_accuracy: 0.9212\n",
      "Epoch 2/5\n",
      "1378/1378 [==============================] - 129s 94ms/step - loss: 0.2256 - accuracy: 0.9204 - val_loss: 0.1957 - val_accuracy: 0.9350\n",
      "Epoch 3/5\n",
      "1378/1378 [==============================] - 134s 98ms/step - loss: 0.2002 - accuracy: 0.9321 - val_loss: 0.1865 - val_accuracy: 0.9394\n",
      "Epoch 4/5\n",
      "1378/1378 [==============================] - 610s 443ms/step - loss: 0.1868 - accuracy: 0.9414 - val_loss: 0.1752 - val_accuracy: 0.9414\n",
      "Epoch 5/5\n",
      "1378/1378 [==============================] - 410s 297ms/step - loss: 0.1760 - accuracy: 0.9464 - val_loss: 0.1670 - val_accuracy: 0.9407\n"
     ]
    }
   ],
   "source": [
    "history = model.fit_generator(generator=train_data_generator,\n",
    "                              steps_per_epoch = len(train_data_generator),\n",
    "                              epochs = 5,\n",
    "                              validation_data = validation_data_generator,\n",
    "                              validation_steps = len(validation_data_generator))"
   ]
  },
  {
   "cell_type": "markdown",
   "metadata": {},
   "source": [
    "### Saving our model"
   ]
  },
  {
   "cell_type": "code",
   "execution_count": 12,
   "metadata": {},
   "outputs": [],
   "source": [
    "from tensorflow.keras.models import load_model\n",
    "\n",
    "model.save('maleria.h5')"
   ]
  },
  {
   "cell_type": "markdown",
   "metadata": {},
   "source": [
    "### Predicting our results"
   ]
  },
  {
   "cell_type": "code",
   "execution_count": 7,
   "metadata": {},
   "outputs": [],
   "source": [
    "from tensorflow.keras.models import load_model\n",
    "model = load_model(r'E:/Malaria Detection using DL/maleria.h5') #loading our trained model"
   ]
  },
  {
   "cell_type": "code",
   "execution_count": 8,
   "metadata": {},
   "outputs": [],
   "source": [
    "y_pred = model.predict(validation_data_generator) #performing prediction to the test data"
   ]
  },
  {
   "cell_type": "code",
   "execution_count": 9,
   "metadata": {},
   "outputs": [
    {
     "data": {
      "text/plain": [
       "array([0, 0, 0, ..., 0, 0, 0], dtype=int64)"
      ]
     },
     "execution_count": 9,
     "metadata": {},
     "output_type": "execute_result"
    }
   ],
   "source": [
    "import numpy as np\n",
    "y_pred = np.argmax(y_pred, axis=1)#Returns the indices of the maximum values along an axis\n",
    "y_pred"
   ]
  },
  {
   "cell_type": "markdown",
   "metadata": {},
   "source": [
    "### Taking images as input an checking results"
   ]
  },
  {
   "cell_type": "code",
   "execution_count": 31,
   "metadata": {},
   "outputs": [
    {
     "data": {
      "text/plain": [
       "(64, 64, 3)"
      ]
     },
     "execution_count": 31,
     "metadata": {},
     "output_type": "execute_result"
    }
   ],
   "source": [
    "from tensorflow.keras.preprocessing import image\n",
    "img=image.load_img(r'E:\\Malaria Detection using DL\\uninfected.png',target_size=(64,64))#loading image\n",
    "x=image.img_to_array(img) #converting in to array formst\n",
    "x.shape #checking its shape"
   ]
  },
  {
   "cell_type": "code",
   "execution_count": 32,
   "metadata": {},
   "outputs": [
    {
     "name": "stdout",
     "output_type": "stream",
     "text": [
      "(1, 64, 64, 3)\n"
     ]
    }
   ],
   "source": [
    "x=np.expand_dims(x,axis=0) #changing its dimensions as per our requirement \n",
    "print(x.shape)\n",
    "#img_data=x.reshape(1, 64, 64, 3)\n",
    "#img_data.shape"
   ]
  },
  {
   "cell_type": "code",
   "execution_count": 38,
   "metadata": {},
   "outputs": [],
   "source": [
    "a=model.predict(x) #prediction"
   ]
  },
  {
   "cell_type": "code",
   "execution_count": 36,
   "metadata": {},
   "outputs": [],
   "source": [
    "if(a==1):\n",
    "    print(\"Uninfected\")\n",
    "else:\n",
    "    print(\"Infected\")"
   ]
  }
 ],
 "metadata": {
  "kernelspec": {
   "display_name": "Python 3",
   "language": "python",
   "name": "python3"
  },
  "language_info": {
   "codemirror_mode": {
    "name": "ipython",
    "version": 3
   },
   "file_extension": ".py",
   "mimetype": "text/x-python",
   "name": "python",
   "nbconvert_exporter": "python",
   "pygments_lexer": "ipython3",
   "version": "3.8.3"
  }
 },
 "nbformat": 4,
 "nbformat_minor": 4
}
